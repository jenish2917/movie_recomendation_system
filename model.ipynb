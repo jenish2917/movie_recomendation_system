{
 "cells": [
  {
   "cell_type": "code",
   "execution_count": 3,
   "metadata": {},
   "outputs": [],
   "source": [
    "import pandas as pd\n",
    "import numpy as np"
   ]
  },
  {
   "cell_type": "code",
   "execution_count": 4,
   "metadata": {},
   "outputs": [],
   "source": [
    "movies = pd.read_csv('TMDB_movie_dataset_v11.csv')"
   ]
  },
  {
   "cell_type": "code",
   "execution_count": 5,
   "metadata": {},
   "outputs": [],
   "source": [
    "movies = movies.dropna()"
   ]
  },
  {
   "cell_type": "code",
   "execution_count": 6,
   "metadata": {},
   "outputs": [
    {
     "data": {
      "text/plain": [
       "Index(['id', 'title', 'vote_average', 'vote_count', 'status', 'release_date',\n",
       "       'revenue', 'runtime', 'adult', 'backdrop_path', 'budget', 'homepage',\n",
       "       'imdb_id', 'original_language', 'original_title', 'overview',\n",
       "       'popularity', 'poster_path', 'tagline', 'genres',\n",
       "       'production_companies', 'production_countries', 'spoken_languages',\n",
       "       'keywords'],\n",
       "      dtype='object')"
      ]
     },
     "execution_count": 6,
     "metadata": {},
     "output_type": "execute_result"
    }
   ],
   "source": [
    "movies.columns"
   ]
  },
  {
   "cell_type": "code",
   "execution_count": 7,
   "metadata": {},
   "outputs": [],
   "source": [
    "# Selecting the columns we want to keep \n",
    "# id, title, genres, overview, tagline, genres, production_comapany, production_countries, keywords\n",
    "\n",
    "movies = movies[['id', 'title', 'genres', 'overview', 'tagline', 'production_companies', 'production_countries', 'keywords']]"
   ]
  },
  {
   "cell_type": "code",
   "execution_count": 8,
   "metadata": {},
   "outputs": [
    {
     "data": {
      "text/html": [
       "<div>\n",
       "<style scoped>\n",
       "    .dataframe tbody tr th:only-of-type {\n",
       "        vertical-align: middle;\n",
       "    }\n",
       "\n",
       "    .dataframe tbody tr th {\n",
       "        vertical-align: top;\n",
       "    }\n",
       "\n",
       "    .dataframe thead th {\n",
       "        text-align: right;\n",
       "    }\n",
       "</style>\n",
       "<table border=\"1\" class=\"dataframe\">\n",
       "  <thead>\n",
       "    <tr style=\"text-align: right;\">\n",
       "      <th></th>\n",
       "      <th>id</th>\n",
       "      <th>title</th>\n",
       "      <th>genres</th>\n",
       "      <th>overview</th>\n",
       "      <th>tagline</th>\n",
       "      <th>production_companies</th>\n",
       "      <th>production_countries</th>\n",
       "      <th>keywords</th>\n",
       "    </tr>\n",
       "  </thead>\n",
       "  <tbody>\n",
       "    <tr>\n",
       "      <th>0</th>\n",
       "      <td>27205</td>\n",
       "      <td>Inception</td>\n",
       "      <td>Action, Science Fiction, Adventure</td>\n",
       "      <td>Cobb, a skilled thief who commits corporate es...</td>\n",
       "      <td>Your mind is the scene of the crime.</td>\n",
       "      <td>Legendary Pictures, Syncopy, Warner Bros. Pict...</td>\n",
       "      <td>United Kingdom, United States of America</td>\n",
       "      <td>rescue, mission, dream, airplane, paris, franc...</td>\n",
       "    </tr>\n",
       "    <tr>\n",
       "      <th>1</th>\n",
       "      <td>157336</td>\n",
       "      <td>Interstellar</td>\n",
       "      <td>Adventure, Drama, Science Fiction</td>\n",
       "      <td>The adventures of a group of explorers who mak...</td>\n",
       "      <td>Mankind was born on Earth. It was never meant ...</td>\n",
       "      <td>Legendary Pictures, Syncopy, Lynda Obst Produc...</td>\n",
       "      <td>United Kingdom, United States of America</td>\n",
       "      <td>rescue, future, spacecraft, race against time,...</td>\n",
       "    </tr>\n",
       "    <tr>\n",
       "      <th>2</th>\n",
       "      <td>155</td>\n",
       "      <td>The Dark Knight</td>\n",
       "      <td>Drama, Action, Crime, Thriller</td>\n",
       "      <td>Batman raises the stakes in his war on crime. ...</td>\n",
       "      <td>Welcome to a world without rules.</td>\n",
       "      <td>DC Comics, Legendary Pictures, Syncopy, Isobel...</td>\n",
       "      <td>United Kingdom, United States of America</td>\n",
       "      <td>joker, sadism, chaos, secret identity, crime f...</td>\n",
       "    </tr>\n",
       "    <tr>\n",
       "      <th>3</th>\n",
       "      <td>19995</td>\n",
       "      <td>Avatar</td>\n",
       "      <td>Action, Adventure, Fantasy, Science Fiction</td>\n",
       "      <td>In the 22nd century, a paraplegic Marine is di...</td>\n",
       "      <td>Enter the world of Pandora.</td>\n",
       "      <td>Dune Entertainment, Lightstorm Entertainment, ...</td>\n",
       "      <td>United States of America, United Kingdom</td>\n",
       "      <td>future, society, culture clash, space travel, ...</td>\n",
       "    </tr>\n",
       "    <tr>\n",
       "      <th>4</th>\n",
       "      <td>24428</td>\n",
       "      <td>The Avengers</td>\n",
       "      <td>Science Fiction, Action, Adventure</td>\n",
       "      <td>When an unexpected enemy emerges and threatens...</td>\n",
       "      <td>Some assembly required.</td>\n",
       "      <td>Marvel Studios</td>\n",
       "      <td>United States of America</td>\n",
       "      <td>new york city, superhero, shield, based on com...</td>\n",
       "    </tr>\n",
       "  </tbody>\n",
       "</table>\n",
       "</div>"
      ],
      "text/plain": [
       "       id            title                                       genres  \\\n",
       "0   27205        Inception           Action, Science Fiction, Adventure   \n",
       "1  157336     Interstellar            Adventure, Drama, Science Fiction   \n",
       "2     155  The Dark Knight               Drama, Action, Crime, Thriller   \n",
       "3   19995           Avatar  Action, Adventure, Fantasy, Science Fiction   \n",
       "4   24428     The Avengers           Science Fiction, Action, Adventure   \n",
       "\n",
       "                                            overview  \\\n",
       "0  Cobb, a skilled thief who commits corporate es...   \n",
       "1  The adventures of a group of explorers who mak...   \n",
       "2  Batman raises the stakes in his war on crime. ...   \n",
       "3  In the 22nd century, a paraplegic Marine is di...   \n",
       "4  When an unexpected enemy emerges and threatens...   \n",
       "\n",
       "                                             tagline  \\\n",
       "0               Your mind is the scene of the crime.   \n",
       "1  Mankind was born on Earth. It was never meant ...   \n",
       "2                  Welcome to a world without rules.   \n",
       "3                        Enter the world of Pandora.   \n",
       "4                            Some assembly required.   \n",
       "\n",
       "                                production_companies  \\\n",
       "0  Legendary Pictures, Syncopy, Warner Bros. Pict...   \n",
       "1  Legendary Pictures, Syncopy, Lynda Obst Produc...   \n",
       "2  DC Comics, Legendary Pictures, Syncopy, Isobel...   \n",
       "3  Dune Entertainment, Lightstorm Entertainment, ...   \n",
       "4                                     Marvel Studios   \n",
       "\n",
       "                       production_countries  \\\n",
       "0  United Kingdom, United States of America   \n",
       "1  United Kingdom, United States of America   \n",
       "2  United Kingdom, United States of America   \n",
       "3  United States of America, United Kingdom   \n",
       "4                  United States of America   \n",
       "\n",
       "                                            keywords  \n",
       "0  rescue, mission, dream, airplane, paris, franc...  \n",
       "1  rescue, future, spacecraft, race against time,...  \n",
       "2  joker, sadism, chaos, secret identity, crime f...  \n",
       "3  future, society, culture clash, space travel, ...  \n",
       "4  new york city, superhero, shield, based on com...  "
      ]
     },
     "execution_count": 8,
     "metadata": {},
     "output_type": "execute_result"
    }
   ],
   "source": [
    "movies.head()"
   ]
  },
  {
   "cell_type": "code",
   "execution_count": 9,
   "metadata": {},
   "outputs": [
    {
     "data": {
      "text/plain": [
       "(9706, 8)"
      ]
     },
     "execution_count": 9,
     "metadata": {},
     "output_type": "execute_result"
    }
   ],
   "source": [
    "movies.shape"
   ]
  },
  {
   "cell_type": "code",
   "execution_count": 10,
   "metadata": {},
   "outputs": [],
   "source": [
    "# Droping the rows with null values in the title column\n",
    "movies = movies[movies['title'].notna()]"
   ]
  },
  {
   "cell_type": "code",
   "execution_count": 11,
   "metadata": {},
   "outputs": [
    {
     "data": {
      "text/plain": [
       "id                      0\n",
       "title                   0\n",
       "genres                  0\n",
       "overview                0\n",
       "tagline                 0\n",
       "production_companies    0\n",
       "production_countries    0\n",
       "keywords                0\n",
       "dtype: int64"
      ]
     },
     "execution_count": 11,
     "metadata": {},
     "output_type": "execute_result"
    }
   ],
   "source": [
    "movies.isnull().sum()"
   ]
  },
  {
   "cell_type": "code",
   "execution_count": 12,
   "metadata": {},
   "outputs": [],
   "source": [
    "# Now we can proceed to the next step"
   ]
  },
  {
   "cell_type": "code",
   "execution_count": 13,
   "metadata": {},
   "outputs": [],
   "source": [
    "# Removing the spaces between keywords -- Example : united states of america => unitedstatesofamerica\n",
    "def collapse(L):\n",
    "    L1 = []\n",
    "    for i in L:\n",
    "        L1.append(i.replace(\" \",\"\"))\n",
    "    return L1"
   ]
  },
  {
   "cell_type": "code",
   "execution_count": 14,
   "metadata": {},
   "outputs": [],
   "source": [
    "movies['production_companies'] = movies['production_companies'].apply(\n",
    "    lambda x: x.split(',') if isinstance(x, str) else []\n",
    ")"
   ]
  },
  {
   "cell_type": "code",
   "execution_count": 15,
   "metadata": {},
   "outputs": [],
   "source": [
    "movies['production_countries'] = movies['production_countries'].apply(\n",
    "    lambda x: x.split(',') if isinstance(x, str) else []\n",
    ")"
   ]
  },
  {
   "cell_type": "code",
   "execution_count": 16,
   "metadata": {},
   "outputs": [
    {
     "data": {
      "text/html": [
       "<div>\n",
       "<style scoped>\n",
       "    .dataframe tbody tr th:only-of-type {\n",
       "        vertical-align: middle;\n",
       "    }\n",
       "\n",
       "    .dataframe tbody tr th {\n",
       "        vertical-align: top;\n",
       "    }\n",
       "\n",
       "    .dataframe thead th {\n",
       "        text-align: right;\n",
       "    }\n",
       "</style>\n",
       "<table border=\"1\" class=\"dataframe\">\n",
       "  <thead>\n",
       "    <tr style=\"text-align: right;\">\n",
       "      <th></th>\n",
       "      <th>id</th>\n",
       "      <th>title</th>\n",
       "      <th>genres</th>\n",
       "      <th>overview</th>\n",
       "      <th>tagline</th>\n",
       "      <th>production_companies</th>\n",
       "      <th>production_countries</th>\n",
       "      <th>keywords</th>\n",
       "    </tr>\n",
       "  </thead>\n",
       "  <tbody>\n",
       "    <tr>\n",
       "      <th>387088</th>\n",
       "      <td>1149974</td>\n",
       "      <td>The Expediter</td>\n",
       "      <td>Drama</td>\n",
       "      <td>A soulful coming of age story set in 1975 New ...</td>\n",
       "      <td>War, work, women &amp; sometimes...wisdom.</td>\n",
       "      <td>[Conscience Circle]</td>\n",
       "      <td>[United States of America]</td>\n",
       "      <td>1970s, coming of age, manufacturing, work rela...</td>\n",
       "    </tr>\n",
       "    <tr>\n",
       "      <th>1015581</th>\n",
       "      <td>863019</td>\n",
       "      <td>Ishq e Qalandar - The Beautiful Sindh</td>\n",
       "      <td>Documentary, History</td>\n",
       "      <td>Ishq e Qalandar - The Beautiful Sindh is a tra...</td>\n",
       "      <td>Highlighting the true beauty of Sindh, Pakista...</td>\n",
       "      <td>[Beats Ventures and Consulting]</td>\n",
       "      <td>[Pakistan]</td>\n",
       "      <td>pakistan, road trip, travel, food, youtube, to...</td>\n",
       "    </tr>\n",
       "    <tr>\n",
       "      <th>14914</th>\n",
       "      <td>76349</td>\n",
       "      <td>1911</td>\n",
       "      <td>Adventure, Drama, Action, History, War</td>\n",
       "      <td>China's first President Sun Yat-Sen and milita...</td>\n",
       "      <td>The Fall of the Last Empire</td>\n",
       "      <td>[Changchun Film Studio,  Shanghai Film Group, ...</td>\n",
       "      <td>[China,  Hong Kong,  Taiwan]</td>\n",
       "      <td>martial arts, sword, revolution, gunfight, bru...</td>\n",
       "    </tr>\n",
       "    <tr>\n",
       "      <th>82623</th>\n",
       "      <td>294861</td>\n",
       "      <td>An Evergreen Christmas</td>\n",
       "      <td>Family, Music, Romance</td>\n",
       "      <td>Leaving her seemingly glamorous Hollywood life...</td>\n",
       "      <td>Home never sounded so good</td>\n",
       "      <td>[WonderStar Productions,  Kim and Jim Producti...</td>\n",
       "      <td>[United States of America]</td>\n",
       "      <td>christmas tree, family business , death of fat...</td>\n",
       "    </tr>\n",
       "    <tr>\n",
       "      <th>1180660</th>\n",
       "      <td>787699</td>\n",
       "      <td>Wonka</td>\n",
       "      <td>Adventure, Comedy, Family, Fantasy</td>\n",
       "      <td>Willy Wonka – chock-full of ideas and determin...</td>\n",
       "      <td>Discover how Willy became…</td>\n",
       "      <td>[Warner Bros. Pictures,  Heyday Films,  Villag...</td>\n",
       "      <td>[Australia,  United Kingdom,  United States of...</td>\n",
       "      <td>chocolate, musical, prequel, duringcreditsstin...</td>\n",
       "    </tr>\n",
       "  </tbody>\n",
       "</table>\n",
       "</div>"
      ],
      "text/plain": [
       "              id                                  title  \\\n",
       "387088   1149974                          The Expediter   \n",
       "1015581   863019  Ishq e Qalandar - The Beautiful Sindh   \n",
       "14914      76349                                   1911   \n",
       "82623     294861                 An Evergreen Christmas   \n",
       "1180660   787699                                  Wonka   \n",
       "\n",
       "                                         genres  \\\n",
       "387088                                    Drama   \n",
       "1015581                    Documentary, History   \n",
       "14914    Adventure, Drama, Action, History, War   \n",
       "82623                    Family, Music, Romance   \n",
       "1180660      Adventure, Comedy, Family, Fantasy   \n",
       "\n",
       "                                                  overview  \\\n",
       "387088   A soulful coming of age story set in 1975 New ...   \n",
       "1015581  Ishq e Qalandar - The Beautiful Sindh is a tra...   \n",
       "14914    China's first President Sun Yat-Sen and milita...   \n",
       "82623    Leaving her seemingly glamorous Hollywood life...   \n",
       "1180660  Willy Wonka – chock-full of ideas and determin...   \n",
       "\n",
       "                                                   tagline  \\\n",
       "387088              War, work, women & sometimes...wisdom.   \n",
       "1015581  Highlighting the true beauty of Sindh, Pakista...   \n",
       "14914                          The Fall of the Last Empire   \n",
       "82623                           Home never sounded so good   \n",
       "1180660                         Discover how Willy became…   \n",
       "\n",
       "                                      production_companies  \\\n",
       "387088                                 [Conscience Circle]   \n",
       "1015581                    [Beats Ventures and Consulting]   \n",
       "14914    [Changchun Film Studio,  Shanghai Film Group, ...   \n",
       "82623    [WonderStar Productions,  Kim and Jim Producti...   \n",
       "1180660  [Warner Bros. Pictures,  Heyday Films,  Villag...   \n",
       "\n",
       "                                      production_countries  \\\n",
       "387088                          [United States of America]   \n",
       "1015581                                         [Pakistan]   \n",
       "14914                         [China,  Hong Kong,  Taiwan]   \n",
       "82623                           [United States of America]   \n",
       "1180660  [Australia,  United Kingdom,  United States of...   \n",
       "\n",
       "                                                  keywords  \n",
       "387088   1970s, coming of age, manufacturing, work rela...  \n",
       "1015581  pakistan, road trip, travel, food, youtube, to...  \n",
       "14914    martial arts, sword, revolution, gunfight, bru...  \n",
       "82623    christmas tree, family business , death of fat...  \n",
       "1180660  chocolate, musical, prequel, duringcreditsstin...  "
      ]
     },
     "execution_count": 16,
     "metadata": {},
     "output_type": "execute_result"
    }
   ],
   "source": [
    "movies.sample(5)"
   ]
  },
  {
   "cell_type": "code",
   "execution_count": 17,
   "metadata": {},
   "outputs": [],
   "source": [
    "# Helper function to safely convert any value to string\n",
    "def safe_to_string(x):\n",
    "    if isinstance(x, list):\n",
    "        return ' '.join(str(item) for item in x)\n",
    "    elif pd.isna(x):\n",
    "        return ''\n",
    "    else:\n",
    "        return str(x)\n",
    "\n",
    "# Apply the conversion to all columns before concatenation\n",
    "movies['tags'] = (\n",
    "    movies['genres'].apply(safe_to_string) + ' ' +\n",
    "    movies['overview'].apply(safe_to_string) + ' ' +\n",
    "    movies['tagline'].apply(safe_to_string) + ' ' +\n",
    "    movies['production_companies'].apply(safe_to_string) + ' ' +\n",
    "    movies['production_countries'].apply(safe_to_string) + ' ' +\n",
    "    movies['keywords'].apply(safe_to_string)\n",
    ")"
   ]
  },
  {
   "cell_type": "code",
   "execution_count": 18,
   "metadata": {},
   "outputs": [
    {
     "data": {
      "text/plain": [
       "32356    Drama, Romance, War Set in the fields of Devon...\n",
       "1519     Comedy The story of a mild-mannered radio exec...\n",
       "72437    Comedy, Romance An isolated guy with cerebral ...\n",
       "31368    Thriller, Action After the controversial disap...\n",
       "12338    Animation, Action, Thriller, Science Fiction A...\n",
       "Name: tags, dtype: object"
      ]
     },
     "execution_count": 18,
     "metadata": {},
     "output_type": "execute_result"
    }
   ],
   "source": [
    "movies['tags'].sample(5)"
   ]
  },
  {
   "cell_type": "code",
   "execution_count": 19,
   "metadata": {},
   "outputs": [
    {
     "data": {
      "text/html": [
       "<div>\n",
       "<style scoped>\n",
       "    .dataframe tbody tr th:only-of-type {\n",
       "        vertical-align: middle;\n",
       "    }\n",
       "\n",
       "    .dataframe tbody tr th {\n",
       "        vertical-align: top;\n",
       "    }\n",
       "\n",
       "    .dataframe thead th {\n",
       "        text-align: right;\n",
       "    }\n",
       "</style>\n",
       "<table border=\"1\" class=\"dataframe\">\n",
       "  <thead>\n",
       "    <tr style=\"text-align: right;\">\n",
       "      <th></th>\n",
       "      <th>id</th>\n",
       "      <th>title</th>\n",
       "      <th>tags</th>\n",
       "    </tr>\n",
       "  </thead>\n",
       "  <tbody>\n",
       "    <tr>\n",
       "      <th>0</th>\n",
       "      <td>27205</td>\n",
       "      <td>Inception</td>\n",
       "      <td>Action, Science Fiction, Adventure Cobb, a ski...</td>\n",
       "    </tr>\n",
       "    <tr>\n",
       "      <th>1</th>\n",
       "      <td>157336</td>\n",
       "      <td>Interstellar</td>\n",
       "      <td>Adventure, Drama, Science Fiction The adventur...</td>\n",
       "    </tr>\n",
       "    <tr>\n",
       "      <th>2</th>\n",
       "      <td>155</td>\n",
       "      <td>The Dark Knight</td>\n",
       "      <td>Drama, Action, Crime, Thriller Batman raises t...</td>\n",
       "    </tr>\n",
       "    <tr>\n",
       "      <th>3</th>\n",
       "      <td>19995</td>\n",
       "      <td>Avatar</td>\n",
       "      <td>Action, Adventure, Fantasy, Science Fiction In...</td>\n",
       "    </tr>\n",
       "    <tr>\n",
       "      <th>4</th>\n",
       "      <td>24428</td>\n",
       "      <td>The Avengers</td>\n",
       "      <td>Science Fiction, Action, Adventure When an une...</td>\n",
       "    </tr>\n",
       "  </tbody>\n",
       "</table>\n",
       "</div>"
      ],
      "text/plain": [
       "       id            title                                               tags\n",
       "0   27205        Inception  Action, Science Fiction, Adventure Cobb, a ski...\n",
       "1  157336     Interstellar  Adventure, Drama, Science Fiction The adventur...\n",
       "2     155  The Dark Knight  Drama, Action, Crime, Thriller Batman raises t...\n",
       "3   19995           Avatar  Action, Adventure, Fantasy, Science Fiction In...\n",
       "4   24428     The Avengers  Science Fiction, Action, Adventure When an une..."
      ]
     },
     "execution_count": 19,
     "metadata": {},
     "output_type": "execute_result"
    }
   ],
   "source": [
    "movies = movies.drop(columns=['genres', 'overview', 'tagline', 'production_companies', 'production_countries', 'keywords'])\n",
    "movies.head()"
   ]
  },
  {
   "cell_type": "code",
   "execution_count": 20,
   "metadata": {},
   "outputs": [
    {
     "data": {
      "text/plain": [
       "(9706, 3)"
      ]
     },
     "execution_count": 20,
     "metadata": {},
     "output_type": "execute_result"
    }
   ],
   "source": [
    "movies.shape"
   ]
  },
  {
   "cell_type": "code",
   "execution_count": 21,
   "metadata": {},
   "outputs": [],
   "source": [
    "from sklearn.feature_extraction.text import TfidfVectorizer\n",
    "\n",
    "# TF-IDF generally works better for recommendation systems\n",
    "tfidf = TfidfVectorizer(max_features=5000, stop_words='english')\n",
    "vectors = tfidf.fit_transform(movies['tags']).toarray()"
   ]
  },
  {
   "cell_type": "code",
   "execution_count": 22,
   "metadata": {},
   "outputs": [
    {
     "data": {
      "text/plain": [
       "(9706, 5000)"
      ]
     },
     "execution_count": 22,
     "metadata": {},
     "output_type": "execute_result"
    }
   ],
   "source": [
    "vectors.shape"
   ]
  },
  {
   "cell_type": "code",
   "execution_count": 23,
   "metadata": {},
   "outputs": [],
   "source": [
    "from sklearn.metrics.pairwise import cosine_similarity\n",
    "similarity = cosine_similarity(vectors)"
   ]
  },
  {
   "cell_type": "code",
   "execution_count": 24,
   "metadata": {},
   "outputs": [
    {
     "data": {
      "text/plain": [
       "array([[1.        , 0.10307986, 0.07331028, ..., 0.02000914, 0.02192231,\n",
       "        0.01625047],\n",
       "       [0.10307986, 1.        , 0.01978263, ..., 0.00356034, 0.01069411,\n",
       "        0.04635341],\n",
       "       [0.07331028, 0.01978263, 1.        , ..., 0.01591503, 0.01245388,\n",
       "        0.00280225],\n",
       "       ...,\n",
       "       [0.02000914, 0.00356034, 0.01591503, ..., 1.        , 0.00458787,\n",
       "        0.01574449],\n",
       "       [0.02192231, 0.01069411, 0.01245388, ..., 0.00458787, 1.        ,\n",
       "        0.02901385],\n",
       "       [0.01625047, 0.04635341, 0.00280225, ..., 0.01574449, 0.02901385,\n",
       "        1.        ]], shape=(9706, 9706))"
      ]
     },
     "execution_count": 24,
     "metadata": {},
     "output_type": "execute_result"
    }
   ],
   "source": [
    "similarity"
   ]
  },
  {
   "cell_type": "code",
   "execution_count": 25,
   "metadata": {},
   "outputs": [],
   "source": [
    "def recommend(movie):\n",
    "    index = movies[movies['title'] == movie].index[0]\n",
    "    distances = sorted(list(enumerate(similarity[index])),reverse=True,key = lambda x: x[1])\n",
    "    for i in distances[1:6]:\n",
    "        print(movies.iloc[i[0]].title)\n",
    "        \n",
    "    "
   ]
  },
  {
   "cell_type": "code",
   "execution_count": 27,
   "metadata": {},
   "outputs": [
    {
     "name": "stdout",
     "output_type": "stream",
     "text": [
      "Deadpool 2\n",
      "X-Men Origins: Wolverine\n",
      "X-Men\n",
      "X-Men: Apocalypse\n",
      "Logan\n"
     ]
    }
   ],
   "source": [
    "recommend('Deadpool')"
   ]
  },
  {
   "cell_type": "code",
   "execution_count": null,
   "metadata": {},
   "outputs": [],
   "source": [
    "import pickle\n",
    "pickle.dump(movies, open('movies_dict.pkl', 'wb'))\n",
    "pickle.dump(similarity, open('similarity.pkl', 'wb'))"
   ]
  },
  {
   "cell_type": "code",
   "execution_count": null,
   "metadata": {},
   "outputs": [],
   "source": []
  }
 ],
 "metadata": {
  "kernelspec": {
   "display_name": "Python 3",
   "language": "python",
   "name": "python3"
  },
  "language_info": {
   "codemirror_mode": {
    "name": "ipython",
    "version": 3
   },
   "file_extension": ".py",
   "mimetype": "text/x-python",
   "name": "python",
   "nbconvert_exporter": "python",
   "pygments_lexer": "ipython3",
   "version": "3.13.2"
  }
 },
 "nbformat": 4,
 "nbformat_minor": 2
}
